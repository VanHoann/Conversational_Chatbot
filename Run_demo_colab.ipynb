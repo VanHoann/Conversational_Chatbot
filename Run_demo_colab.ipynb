{
  "nbformat": 4,
  "nbformat_minor": 0,
  "metadata": {
    "colab": {
      "provenance": [],
      "collapsed_sections": [],
      "toc_visible": true
    },
    "kernelspec": {
      "name": "python3",
      "display_name": "Python 3"
    }
  },
  "cells": [
    {
      "cell_type": "markdown",
      "source": [
        "<a href=\"https://colab.research.google.com/github/VanHoann/Conversational_Chatbot/blob/main/Run_demo_colab.ipynb\" target=\"_blank\"><img\n",
        "src=\"https://colab.research.google.com/assets/colab-badge.svg\" alt=\"Open In Colab\"></a>"
      ],
      "metadata": {
        "id": "Cq1Q57zn5sy5"
      }
    },
    {
      "cell_type": "markdown",
      "source": [
        "Set up Ngrok"
      ],
      "metadata": {
        "id": "JP4ARhCP4bfd"
      }
    },
    {
      "metadata": {
        "id": "1cljkrUaPeyg",
        "colab": {
          "base_uri": "https://localhost:8080/"
        },
        "outputId": "ef8798fe-07bf-4f5f-e420-ae169b8bf84d"
      },
      "cell_type": "code",
      "source": [
        "!pip install -q flask-ngrok\n",
        "!pip install -q flask\n",
        "!pip install -q pyngrok"
      ],
      "execution_count": null,
      "outputs": [
        {
          "output_type": "stream",
          "name": "stdout",
          "text": [
            "\u001b[?25l\r\u001b[K     |▍                               | 10 kB 21.4 MB/s eta 0:00:01\r\u001b[K     |▉                               | 20 kB 14.8 MB/s eta 0:00:01\r\u001b[K     |█▎                              | 30 kB 19.7 MB/s eta 0:00:01\r\u001b[K     |█▊                              | 40 kB 8.1 MB/s eta 0:00:01\r\u001b[K     |██▏                             | 51 kB 8.2 MB/s eta 0:00:01\r\u001b[K     |██▋                             | 61 kB 9.7 MB/s eta 0:00:01\r\u001b[K     |███                             | 71 kB 9.1 MB/s eta 0:00:01\r\u001b[K     |███▌                            | 81 kB 9.2 MB/s eta 0:00:01\r\u001b[K     |████                            | 92 kB 10.1 MB/s eta 0:00:01\r\u001b[K     |████▍                           | 102 kB 8.6 MB/s eta 0:00:01\r\u001b[K     |████▉                           | 112 kB 8.6 MB/s eta 0:00:01\r\u001b[K     |█████▎                          | 122 kB 8.6 MB/s eta 0:00:01\r\u001b[K     |█████▊                          | 133 kB 8.6 MB/s eta 0:00:01\r\u001b[K     |██████▏                         | 143 kB 8.6 MB/s eta 0:00:01\r\u001b[K     |██████▋                         | 153 kB 8.6 MB/s eta 0:00:01\r\u001b[K     |███████                         | 163 kB 8.6 MB/s eta 0:00:01\r\u001b[K     |███████▌                        | 174 kB 8.6 MB/s eta 0:00:01\r\u001b[K     |████████                        | 184 kB 8.6 MB/s eta 0:00:01\r\u001b[K     |████████▍                       | 194 kB 8.6 MB/s eta 0:00:01\r\u001b[K     |████████▉                       | 204 kB 8.6 MB/s eta 0:00:01\r\u001b[K     |█████████▎                      | 215 kB 8.6 MB/s eta 0:00:01\r\u001b[K     |█████████▊                      | 225 kB 8.6 MB/s eta 0:00:01\r\u001b[K     |██████████▏                     | 235 kB 8.6 MB/s eta 0:00:01\r\u001b[K     |██████████▌                     | 245 kB 8.6 MB/s eta 0:00:01\r\u001b[K     |███████████                     | 256 kB 8.6 MB/s eta 0:00:01\r\u001b[K     |███████████▍                    | 266 kB 8.6 MB/s eta 0:00:01\r\u001b[K     |███████████▉                    | 276 kB 8.6 MB/s eta 0:00:01\r\u001b[K     |████████████▎                   | 286 kB 8.6 MB/s eta 0:00:01\r\u001b[K     |████████████▊                   | 296 kB 8.6 MB/s eta 0:00:01\r\u001b[K     |█████████████▏                  | 307 kB 8.6 MB/s eta 0:00:01\r\u001b[K     |█████████████▋                  | 317 kB 8.6 MB/s eta 0:00:01\r\u001b[K     |██████████████                  | 327 kB 8.6 MB/s eta 0:00:01\r\u001b[K     |██████████████▌                 | 337 kB 8.6 MB/s eta 0:00:01\r\u001b[K     |███████████████                 | 348 kB 8.6 MB/s eta 0:00:01\r\u001b[K     |███████████████▍                | 358 kB 8.6 MB/s eta 0:00:01\r\u001b[K     |███████████████▉                | 368 kB 8.6 MB/s eta 0:00:01\r\u001b[K     |████████████████▎               | 378 kB 8.6 MB/s eta 0:00:01\r\u001b[K     |████████████████▊               | 389 kB 8.6 MB/s eta 0:00:01\r\u001b[K     |█████████████████▏              | 399 kB 8.6 MB/s eta 0:00:01\r\u001b[K     |█████████████████▋              | 409 kB 8.6 MB/s eta 0:00:01\r\u001b[K     |██████████████████              | 419 kB 8.6 MB/s eta 0:00:01\r\u001b[K     |██████████████████▌             | 430 kB 8.6 MB/s eta 0:00:01\r\u001b[K     |███████████████████             | 440 kB 8.6 MB/s eta 0:00:01\r\u001b[K     |███████████████████▍            | 450 kB 8.6 MB/s eta 0:00:01\r\u001b[K     |███████████████████▉            | 460 kB 8.6 MB/s eta 0:00:01\r\u001b[K     |████████████████████▎           | 471 kB 8.6 MB/s eta 0:00:01\r\u001b[K     |████████████████████▋           | 481 kB 8.6 MB/s eta 0:00:01\r\u001b[K     |█████████████████████           | 491 kB 8.6 MB/s eta 0:00:01\r\u001b[K     |█████████████████████▌          | 501 kB 8.6 MB/s eta 0:00:01\r\u001b[K     |██████████████████████          | 512 kB 8.6 MB/s eta 0:00:01\r\u001b[K     |██████████████████████▍         | 522 kB 8.6 MB/s eta 0:00:01\r\u001b[K     |██████████████████████▉         | 532 kB 8.6 MB/s eta 0:00:01\r\u001b[K     |███████████████████████▎        | 542 kB 8.6 MB/s eta 0:00:01\r\u001b[K     |███████████████████████▊        | 552 kB 8.6 MB/s eta 0:00:01\r\u001b[K     |████████████████████████▏       | 563 kB 8.6 MB/s eta 0:00:01\r\u001b[K     |████████████████████████▋       | 573 kB 8.6 MB/s eta 0:00:01\r\u001b[K     |█████████████████████████       | 583 kB 8.6 MB/s eta 0:00:01\r\u001b[K     |█████████████████████████▌      | 593 kB 8.6 MB/s eta 0:00:01\r\u001b[K     |██████████████████████████      | 604 kB 8.6 MB/s eta 0:00:01\r\u001b[K     |██████████████████████████▍     | 614 kB 8.6 MB/s eta 0:00:01\r\u001b[K     |██████████████████████████▉     | 624 kB 8.6 MB/s eta 0:00:01\r\u001b[K     |███████████████████████████▎    | 634 kB 8.6 MB/s eta 0:00:01\r\u001b[K     |███████████████████████████▊    | 645 kB 8.6 MB/s eta 0:00:01\r\u001b[K     |████████████████████████████▏   | 655 kB 8.6 MB/s eta 0:00:01\r\u001b[K     |████████████████████████████▋   | 665 kB 8.6 MB/s eta 0:00:01\r\u001b[K     |█████████████████████████████   | 675 kB 8.6 MB/s eta 0:00:01\r\u001b[K     |█████████████████████████████▌  | 686 kB 8.6 MB/s eta 0:00:01\r\u001b[K     |██████████████████████████████  | 696 kB 8.6 MB/s eta 0:00:01\r\u001b[K     |██████████████████████████████▍ | 706 kB 8.6 MB/s eta 0:00:01\r\u001b[K     |██████████████████████████████▊ | 716 kB 8.6 MB/s eta 0:00:01\r\u001b[K     |███████████████████████████████▏| 727 kB 8.6 MB/s eta 0:00:01\r\u001b[K     |███████████████████████████████▋| 737 kB 8.6 MB/s eta 0:00:01\r\u001b[K     |████████████████████████████████| 745 kB 8.6 MB/s \n",
            "\u001b[?25h  Building wheel for pyngrok (setup.py) ... \u001b[?25l\u001b[?25hdone\n"
          ]
        }
      ]
    },
    {
      "cell_type": "markdown",
      "source": [
        "Add Authtoken \n",
        "> Please register a free account on [Ngrok](https://ngrok.com/) to have a token"
      ],
      "metadata": {
        "id": "dSghgc-A4in4"
      }
    },
    {
      "cell_type": "code",
      "source": [
        "!ngrok authtoken {YOUR TOKEN}"
      ],
      "metadata": {
        "id": "Spml7QDJnuPk",
        "outputId": "1959d3c4-8cb1-464b-91f9-ec4653b127d8",
        "colab": {
          "base_uri": "https://localhost:8080/"
        }
      },
      "execution_count": null,
      "outputs": [
        {
          "output_type": "stream",
          "name": "stdout",
          "text": [
            "Authtoken saved to configuration file: /root/.ngrok2/ngrok.yml\n"
          ]
        }
      ]
    },
    {
      "cell_type": "markdown",
      "source": [
        "Clone github repo"
      ],
      "metadata": {
        "id": "QvDyk6QZ4z04"
      }
    },
    {
      "cell_type": "code",
      "source": [
        "!git clone https://github.com/VanHoann/Conversational_Chatbot"
      ],
      "metadata": {
        "id": "v1yomlfwoEa0",
        "outputId": "26b63c7d-d61a-4729-8917-c9ac78a84776",
        "colab": {
          "base_uri": "https://localhost:8080/"
        }
      },
      "execution_count": null,
      "outputs": [
        {
          "output_type": "stream",
          "name": "stdout",
          "text": [
            "Cloning into 'Conversational_Chatbot'...\n",
            "remote: Enumerating objects: 139, done.\u001b[K\n",
            "remote: Counting objects: 100% (139/139), done.\u001b[K\n",
            "remote: Compressing objects: 100% (133/133), done.\u001b[K\n",
            "remote: Total 139 (delta 10), reused 0 (delta 0), pack-reused 0\u001b[K\n",
            "Receiving objects: 100% (139/139), 12.69 MiB | 7.08 MiB/s, done.\n",
            "Resolving deltas: 100% (10/10), done.\n"
          ]
        }
      ]
    },
    {
      "cell_type": "code",
      "source": [
        "cd Conversational_Chatbot"
      ],
      "metadata": {
        "id": "2Ff9b8Omoi_5",
        "outputId": "3c6efd24-0bfe-422d-ca9c-ed8e06f17994",
        "colab": {
          "base_uri": "https://localhost:8080/"
        }
      },
      "execution_count": null,
      "outputs": [
        {
          "output_type": "stream",
          "name": "stdout",
          "text": [
            "/content/Conversational_Chatbot\n"
          ]
        }
      ]
    },
    {
      "cell_type": "code",
      "source": [
        "ls"
      ],
      "metadata": {
        "id": "5nXqAcQzos67",
        "outputId": "937e36b0-7b52-44bc-b569-cd132124d71d",
        "colab": {
          "base_uri": "https://localhost:8080/"
        }
      },
      "execution_count": null,
      "outputs": [
        {
          "output_type": "stream",
          "name": "stdout",
          "text": [
            "app_colab.py  create_database.py   model.py            \u001b[0m\u001b[01;34mstatic\u001b[0m/\n",
            "app.py        \u001b[01;34mdata\u001b[0m/                models_database.py  \u001b[01;34mtemplates\u001b[0m/\n",
            "auth.py       Data_Analysis.ipynb  README.md           test.db\n",
            "chat.py       data_processing.py   requirements.txt\n",
            "config.py     Group_Report.pdf     Run_demo.ipynb\n"
          ]
        }
      ]
    },
    {
      "cell_type": "code",
      "source": [
        "!pip install -r requirements.txt"
      ],
      "metadata": {
        "colab": {
          "base_uri": "https://localhost:8080/"
        },
        "id": "zcvc4mY8qEOT",
        "outputId": "2c9ec632-eff1-4579-e97a-f6e69588d1a6"
      },
      "execution_count": null,
      "outputs": [
        {
          "output_type": "stream",
          "name": "stdout",
          "text": [
            "Looking in indexes: https://pypi.org/simple, https://us-python.pkg.dev/colab-wheels/public/simple/\n",
            "Collecting alembic==1.7.7\n",
            "  Downloading alembic-1.7.7-py3-none-any.whl (210 kB)\n",
            "\u001b[K     |████████████████████████████████| 210 kB 7.3 MB/s \n",
            "\u001b[?25hCollecting certifi==2021.10.8\n",
            "  Downloading certifi-2021.10.8-py2.py3-none-any.whl (149 kB)\n",
            "\u001b[K     |████████████████████████████████| 149 kB 52.1 MB/s \n",
            "\u001b[?25hRequirement already satisfied: chardet==3.0.4 in /usr/local/lib/python3.7/dist-packages (from -r requirements.txt (line 3)) (3.0.4)\n",
            "Collecting click==8.1.3\n",
            "  Downloading click-8.1.3-py3-none-any.whl (96 kB)\n",
            "\u001b[K     |████████████████████████████████| 96 kB 6.3 MB/s \n",
            "\u001b[?25hCollecting colorama==0.4.4\n",
            "  Downloading colorama-0.4.4-py2.py3-none-any.whl (16 kB)\n",
            "Collecting filelock==3.6.0\n",
            "  Downloading filelock-3.6.0-py3-none-any.whl (10.0 kB)\n",
            "Collecting Flask==2.1.2\n",
            "  Downloading Flask-2.1.2-py3-none-any.whl (95 kB)\n",
            "\u001b[K     |████████████████████████████████| 95 kB 125 kB/s \n",
            "\u001b[?25hCollecting Flask-Login==0.5.0\n",
            "  Downloading Flask_Login-0.5.0-py2.py3-none-any.whl (16 kB)\n",
            "Collecting Flask-Migrate==2.5.3\n",
            "  Downloading Flask_Migrate-2.5.3-py2.py3-none-any.whl (13 kB)\n",
            "Collecting Flask-SQLAlchemy==2.5.1\n",
            "  Downloading Flask_SQLAlchemy-2.5.1-py2.py3-none-any.whl (17 kB)\n",
            "Collecting greenlet==1.1.2\n",
            "  Downloading greenlet-1.1.2-cp37-cp37m-manylinux_2_17_x86_64.manylinux2014_x86_64.whl (150 kB)\n",
            "\u001b[K     |████████████████████████████████| 150 kB 51.8 MB/s \n",
            "\u001b[?25hCollecting huggingface-hub==0.5.1\n",
            "  Downloading huggingface_hub-0.5.1-py3-none-any.whl (77 kB)\n",
            "\u001b[K     |████████████████████████████████| 77 kB 7.1 MB/s \n",
            "\u001b[?25hRequirement already satisfied: idna==2.10 in /usr/local/lib/python3.7/dist-packages (from -r requirements.txt (line 13)) (2.10)\n",
            "Collecting importlib-metadata==4.11.3\n",
            "  Downloading importlib_metadata-4.11.3-py3-none-any.whl (18 kB)\n",
            "Collecting importlib-resources==5.7.1\n",
            "  Downloading importlib_resources-5.7.1-py3-none-any.whl (28 kB)\n",
            "Collecting itsdangerous==2.1.2\n",
            "  Downloading itsdangerous-2.1.2-py3-none-any.whl (15 kB)\n",
            "Collecting Jinja2==3.1.2\n",
            "  Downloading Jinja2-3.1.2-py3-none-any.whl (133 kB)\n",
            "\u001b[K     |████████████████████████████████| 133 kB 39.9 MB/s \n",
            "\u001b[?25hRequirement already satisfied: joblib==1.1.0 in /usr/local/lib/python3.7/dist-packages (from -r requirements.txt (line 18)) (1.1.0)\n",
            "Collecting Mako==1.2.0\n",
            "  Downloading Mako-1.2.0-py3-none-any.whl (78 kB)\n",
            "\u001b[K     |████████████████████████████████| 78 kB 7.4 MB/s \n",
            "\u001b[?25hCollecting MarkupSafe==2.1.1\n",
            "  Downloading MarkupSafe-2.1.1-cp37-cp37m-manylinux_2_17_x86_64.manylinux2014_x86_64.whl (25 kB)\n",
            "Requirement already satisfied: nltk==3.7 in /usr/local/lib/python3.7/dist-packages (from -r requirements.txt (line 21)) (3.7)\n",
            "\u001b[31mERROR: Could not find a version that satisfies the requirement numpy==1.22.3 (from versions: 1.3.0, 1.4.1, 1.5.0, 1.5.1, 1.6.0, 1.6.1, 1.6.2, 1.7.0, 1.7.1, 1.7.2, 1.8.0, 1.8.1, 1.8.2, 1.9.0, 1.9.1, 1.9.2, 1.9.3, 1.10.0.post2, 1.10.1, 1.10.2, 1.10.4, 1.11.0, 1.11.1, 1.11.2, 1.11.3, 1.12.0, 1.12.1, 1.13.0rc1, 1.13.0rc2, 1.13.0, 1.13.1, 1.13.3, 1.14.0rc1, 1.14.0, 1.14.1, 1.14.2, 1.14.3, 1.14.4, 1.14.5, 1.14.6, 1.15.0rc1, 1.15.0rc2, 1.15.0, 1.15.1, 1.15.2, 1.15.3, 1.15.4, 1.16.0rc1, 1.16.0rc2, 1.16.0, 1.16.1, 1.16.2, 1.16.3, 1.16.4, 1.16.5, 1.16.6, 1.17.0rc1, 1.17.0rc2, 1.17.0, 1.17.1, 1.17.2, 1.17.3, 1.17.4, 1.17.5, 1.18.0rc1, 1.18.0, 1.18.1, 1.18.2, 1.18.3, 1.18.4, 1.18.5, 1.19.0rc1, 1.19.0rc2, 1.19.0, 1.19.1, 1.19.2, 1.19.3, 1.19.4, 1.19.5, 1.20.0rc1, 1.20.0rc2, 1.20.0, 1.20.1, 1.20.2, 1.20.3, 1.21.0rc1, 1.21.0rc2, 1.21.0, 1.21.1, 1.21.2, 1.21.3, 1.21.4, 1.21.5, 1.21.6)\u001b[0m\n",
            "\u001b[31mERROR: No matching distribution found for numpy==1.22.3\u001b[0m\n"
          ]
        }
      ]
    },
    {
      "cell_type": "markdown",
      "source": [
        "Install some packages that Colab doesn't have"
      ],
      "metadata": {
        "id": "U4cxURqu7CQs"
      }
    },
    {
      "cell_type": "code",
      "source": [
        "!pip install -q flask_sqlalchemy flask_login transformers"
      ],
      "metadata": {
        "colab": {
          "base_uri": "https://localhost:8080/"
        },
        "id": "gO_zg5CA6pNX",
        "outputId": "1838cffa-9be4-4404-8f2e-3506cb32658a"
      },
      "execution_count": null,
      "outputs": [
        {
          "output_type": "stream",
          "name": "stdout",
          "text": [
            "\u001b[K     |████████████████████████████████| 4.7 MB 7.1 MB/s \n",
            "\u001b[K     |████████████████████████████████| 120 kB 84.6 MB/s \n",
            "\u001b[K     |████████████████████████████████| 6.6 MB 44.9 MB/s \n",
            "\u001b[?25h"
          ]
        }
      ]
    },
    {
      "cell_type": "markdown",
      "source": [
        "Run\n",
        "> Visit http:{ }.ngrok.io to access the app"
      ],
      "metadata": {
        "id": "KpMez0bZ46T4"
      }
    },
    {
      "cell_type": "code",
      "source": [
        "!python app_colab.py"
      ],
      "metadata": {
        "colab": {
          "base_uri": "https://localhost:8080/"
        },
        "id": "Wz4yMREyqFH1",
        "outputId": "346467d5-764f-48b1-d425-a5152360cdd5"
      },
      "execution_count": null,
      "outputs": [
        {
          "output_type": "stream",
          "name": "stdout",
          "text": [
            "/usr/local/lib/python3.7/dist-packages/flask_sqlalchemy/__init__.py:873: FSADeprecationWarning: SQLALCHEMY_TRACK_MODIFICATIONS adds significant overhead and will be disabled by default in the future.  Set it to True or False to suppress this warning.\n",
            "  'SQLALCHEMY_TRACK_MODIFICATIONS adds significant overhead and '\n",
            "Downloading tokenizer_config.json: 100% 26.0/26.0 [00:00<00:00, 22.8kB/s]\n",
            "Downloading config.json: 100% 642/642 [00:00<00:00, 571kB/s]\n",
            "Downloading vocab.json: 100% 0.99M/0.99M [00:00<00:00, 2.37MB/s]\n",
            "Downloading merges.txt: 100% 446k/446k [00:00<00:00, 1.46MB/s]\n",
            "Downloading pytorch_model.bin: 100% 823M/823M [00:22<00:00, 39.2MB/s]\n",
            "\u001b[33m * Tip: There are .env or .flaskenv files present. Do \"pip install python-dotenv\" to use them.\u001b[0m\n",
            " * Serving Flask app \"app_colab\" (lazy loading)\n",
            " * Environment: production\n",
            "\u001b[31m   WARNING: This is a development server. Do not use it in a production deployment.\u001b[0m\n",
            "\u001b[2m   Use a production WSGI server instead.\u001b[0m\n",
            " * Debug mode: off\n",
            " * Running on http://127.0.0.1:5000/ (Press CTRL+C to quit)\n",
            " * Running on http://ee4e-34-82-22-144.ngrok.io\n",
            " * Traffic stats available on http://127.0.0.1:4040\n",
            "127.0.0.1 - - [01/Sep/2022 07:25:22] \"\u001b[32mGET / HTTP/1.1\u001b[0m\" 302 -\n",
            "127.0.0.1 - - [01/Sep/2022 07:25:23] \"\u001b[37mGET /auth/login?next=%2F HTTP/1.1\u001b[0m\" 200 -\n",
            "127.0.0.1 - - [01/Sep/2022 07:25:23] \"\u001b[37mGET /static/css/chatroom_auth.css HTTP/1.1\u001b[0m\" 200 -\n",
            "127.0.0.1 - - [01/Sep/2022 07:25:23] \"\u001b[37mGET /static/bulma-0.9.0/css/bulma.min.css HTTP/1.1\u001b[0m\" 200 -\n",
            "127.0.0.1 - - [01/Sep/2022 07:25:30] \"\u001b[32mPOST /auth/login?next=%2F HTTP/1.1\u001b[0m\" 302 -\n",
            "127.0.0.1 - - [01/Sep/2022 07:25:30] \"\u001b[37mGET /auth/login HTTP/1.1\u001b[0m\" 200 -\n",
            "127.0.0.1 - - [01/Sep/2022 07:25:41] \"\u001b[37mGET /auth/register HTTP/1.1\u001b[0m\" 200 -\n",
            "127.0.0.1 - - [01/Sep/2022 07:25:49] \"\u001b[32mPOST /auth/register HTTP/1.1\u001b[0m\" 302 -\n",
            "127.0.0.1 - - [01/Sep/2022 07:25:49] \"\u001b[37mGET / HTTP/1.1\u001b[0m\" 200 -\n",
            "127.0.0.1 - - [01/Sep/2022 07:25:50] \"\u001b[37mGET /static/css/chat_with_bots.css HTTP/1.1\u001b[0m\" 200 -\n",
            "127.0.0.1 - - [01/Sep/2022 07:25:50] \"\u001b[37mGET /static/js/chat_with_bots.js HTTP/1.1\u001b[0m\" 200 -\n",
            "127.0.0.1 - - [01/Sep/2022 07:25:51] \"\u001b[37mGET /static/img/high%20five_0.png HTTP/1.1\u001b[0m\" 200 -\n",
            "127.0.0.1 - - [01/Sep/2022 07:25:51] \"\u001b[37mGET /static/img/milk_tea.png HTTP/1.1\u001b[0m\" 200 -\n",
            "127.0.0.1 - - [01/Sep/2022 07:25:55] \"\u001b[32mGET /auth/logout HTTP/1.1\u001b[0m\" 302 -\n",
            "127.0.0.1 - - [01/Sep/2022 07:25:55] \"\u001b[37mGET /auth/login HTTP/1.1\u001b[0m\" 200 -\n",
            "127.0.0.1 - - [01/Sep/2022 07:26:05] \"\u001b[32mPOST /auth/login HTTP/1.1\u001b[0m\" 302 -\n",
            "127.0.0.1 - - [01/Sep/2022 07:26:05] \"\u001b[37mGET / HTTP/1.1\u001b[0m\" 200 -\n",
            "/usr/local/lib/python3.7/dist-packages/nltk/translate/bleu_score.py:552: UserWarning: \n",
            "The hypothesis contains 0 counts of 3-gram overlaps.\n",
            "Therefore the BLEU score evaluates to 0, independently of\n",
            "how many N-gram overlaps of lower order it contains.\n",
            "Consider using lower n-gram order or use SmoothingFunction()\n",
            "  warnings.warn(_msg)\n",
            "/usr/local/lib/python3.7/dist-packages/nltk/translate/bleu_score.py:552: UserWarning: \n",
            "The hypothesis contains 0 counts of 2-gram overlaps.\n",
            "Therefore the BLEU score evaluates to 0, independently of\n",
            "how many N-gram overlaps of lower order it contains.\n",
            "Consider using lower n-gram order or use SmoothingFunction()\n",
            "  warnings.warn(_msg)\n",
            "                                                     inp  ...           bleu\n",
            "56960  she's pretty great, i can't think of many peop...  ...  2.982797e-102\n",
            "46844                       hi i went to a skating park.  ...  2.982797e-102\n",
            "1088   you should, especially if you truly miss any o...  ...  2.982797e-102\n",
            "38766  i am bad with anxiety too but if you haven't d...  ...  2.982797e-102\n",
            "59906        that is a pretty weird thing to have happen  ...  2.982797e-102\n",
            "\n",
            "[5 rows x 3 columns]\n",
            "reply after 0.5887 second\n",
            "127.0.0.1 - - [01/Sep/2022 07:26:12] \"\u001b[37mPOST /chat HTTP/1.1\u001b[0m\" 200 -\n",
            "        inp  ...      bleu\n",
            "31028  why?  ...  0.795536\n",
            "48257  why?  ...  0.795536\n",
            "30472     5  ...  0.695905\n",
            "21824   yes  ...  0.695905\n",
            "2492    yes  ...  0.695905\n",
            "\n",
            "[5 rows x 3 columns]\n",
            "reply after 0.9091 second\n",
            "127.0.0.1 - - [01/Sep/2022 07:26:18] \"\u001b[37mPOST /chat HTTP/1.1\u001b[0m\" 200 -\n",
            "/usr/local/lib/python3.7/dist-packages/nltk/translate/bleu_score.py:552: UserWarning: \n",
            "The hypothesis contains 0 counts of 2-gram overlaps.\n",
            "Therefore the BLEU score evaluates to 0, independently of\n",
            "how many N-gram overlaps of lower order it contains.\n",
            "Consider using lower n-gram order or use SmoothingFunction()\n",
            "  warnings.warn(_msg)\n",
            "/usr/local/lib/python3.7/dist-packages/nltk/translate/bleu_score.py:552: UserWarning: \n",
            "The hypothesis contains 0 counts of 3-gram overlaps.\n",
            "Therefore the BLEU score evaluates to 0, independently of\n",
            "how many N-gram overlaps of lower order it contains.\n",
            "Consider using lower n-gram order or use SmoothingFunction()\n",
            "  warnings.warn(_msg)\n",
            "                                 inp  ...      bleu\n",
            "40817                   that is true  ...  0.135335\n",
            "11728               that is so true.  ...  0.049787\n",
            "10368         i am astonish by trump  ...  0.007731\n",
            "40402   do you play any instruments?  ...  0.001725\n",
            "11862  do they play any instruments?  ...  0.001343\n",
            "\n",
            "[5 rows x 3 columns]\n",
            "reply after 0.7513 second\n",
            "127.0.0.1 - - [01/Sep/2022 07:26:21] \"\u001b[37mPOST /chat HTTP/1.1\u001b[0m\" 200 -\n",
            "reply after 4.3985 second\n",
            "127.0.0.1 - - [01/Sep/2022 07:26:45] \"\u001b[37mPOST /chat HTTP/1.1\u001b[0m\" 200 -\n",
            "reply after 2.0578 second\n",
            "127.0.0.1 - - [01/Sep/2022 07:27:03] \"\u001b[37mPOST /chat HTTP/1.1\u001b[0m\" 200 -\n",
            "reply after 1.8897 second\n",
            "127.0.0.1 - - [01/Sep/2022 07:27:13] \"\u001b[37mPOST /chat HTTP/1.1\u001b[0m\" 200 -\n",
            "reply after 1.8473 second\n",
            "127.0.0.1 - - [01/Sep/2022 07:27:26] \"\u001b[37mPOST /chat HTTP/1.1\u001b[0m\" 200 -\n",
            "reply after 1.8633 second\n",
            "127.0.0.1 - - [01/Sep/2022 07:27:42] \"\u001b[37mPOST /chat HTTP/1.1\u001b[0m\" 200 -\n",
            "reply after 1.8493 second\n",
            "127.0.0.1 - - [01/Sep/2022 07:27:50] \"\u001b[37mPOST /chat HTTP/1.1\u001b[0m\" 200 -\n",
            "127.0.0.1 - - [01/Sep/2022 07:28:32] \"\u001b[32mGET /auth/logout HTTP/1.1\u001b[0m\" 302 -\n",
            "127.0.0.1 - - [01/Sep/2022 07:28:32] \"\u001b[37mGET /auth/login HTTP/1.1\u001b[0m\" 200 -\n"
          ]
        }
      ]
    }
  ]
}